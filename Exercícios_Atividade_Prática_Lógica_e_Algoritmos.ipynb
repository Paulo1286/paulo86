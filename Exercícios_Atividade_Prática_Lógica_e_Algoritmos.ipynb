{
  "cells": [
    {
      "cell_type": "markdown",
      "metadata": {
        "id": "view-in-github",
        "colab_type": "text"
      },
      "source": [
        "<a href=\"https://colab.research.google.com/github/Paulo1286/paulo86/blob/main/Exerc%C3%ADcios_Atividade_Pr%C3%A1tica_L%C3%B3gica_e_Algoritmos.ipynb\" target=\"_parent\"><img src=\"https://colab.research.google.com/assets/colab-badge.svg\" alt=\"Open In Colab\"/></a>"
      ]
    },
    {
      "cell_type": "markdown",
      "metadata": {
        "id": "W7TthByPyi6j"
      },
      "source": [
        "Primeiro exercício de Python"
      ]
    },
    {
      "cell_type": "code",
      "execution_count": null,
      "metadata": {
        "colab": {
          "base_uri": "https://localhost:8080/"
        },
        "id": "qbA6AtzpyneQ",
        "outputId": "b4470d29-4cc6-4b37-fb3f-c2194fe5093d"
      },
      "outputs": [
        {
          "name": "stdout",
          "output_type": "stream",
          "text": [
            "Bem vindo a Loja do PAULO EDUARDO AUGUSTO\n",
            "Entre com valor do produto desejado:200\n",
            "Entre com a quantidade desejada:350\n",
            "O valor do produto sem desconto é: R$ 70000.0\n",
            "O valor do produto com desconto é: R$ 66500.0\n"
          ]
        }
      ],
      "source": [
        "print('Bem-vindo a Loja do PAULO EDUARDO AUGUSTO')\n",
        "valor_produto = float(input('Entre com valor do produto desejado:')) #variável valor do produto. Solicita a entrada pelo usuário de um número inteiro ou não através do comando float\n",
        "qtd_produto = int(input('Entre com a quantidade desejada:')) #variável quantidade de produto. Solicita a entrada de um número inteiro através do comando int\n",
        "desconto_produto = 0\n",
        "\n",
        "if qtd_produto < 200: #enquanto a quantidade do produto for menor que 200, não há desconto. Ocorre através da condicional if.\n",
        "  desconto_produto = 0.00\n",
        "elif qtd_produto >= 200 and qtd_produto <= 1000: #quando a condição if não é atendida, o teste ocorre na próxima linha de código.\n",
        "  desconto_produto = 0.05\n",
        "elif qtd_produto <= 100 and qtd_produto > 2000:#quando a condição não foi atendida através do elif da linha 8, o código passa para a próxima condicional.\n",
        "  desconto_produto = 0.10\n",
        "else: #condicional que encerra os testes nas linhas de código quando nenhuma ondicional anterior foi atendida.\n",
        "  desconto_produto = 0.15\n",
        "\n",
        "total_sem_desconto = valor_produto * qtd_produto #retorna o valor sem desconto através dessa equação com as variáveis criadas nas primeiras linhas de código\n",
        "print('O valor do produto sem desconto é: R$ {}'.format(total_sem_desconto))\n",
        "\n",
        "total_com_desconto = total_sem_desconto - (total_sem_desconto * desconto_produto) #retorna o valor com desconto através dessa equação com as variáveis criadas nas primeiras linhas de código\n",
        "print('O valor do produto com desconto é: R$ {}'.format(total_com_desconto))\n",
        "\n"
      ]
    },
    {
      "cell_type": "markdown",
      "metadata": {
        "id": "bVyyZ7Iqa4RW"
      },
      "source": [
        "Segundo exercício de Python"
      ]
    },
    {
      "cell_type": "code",
      "execution_count": null,
      "metadata": {
        "id": "0a_RZGf6bEbB"
      },
      "outputs": [],
      "source": [
        "print('Bem-vindo a sorveteria do Paulo Eduardo Augusto')\n",
        "print('|------------------------------------CARDÁPIO------------------------------------|')\n",
        "print('| Nº DE BOLAS | Sabor Tradicional (tr) | Sabor Premium (pr) | Sabor Especial (es)|')\n",
        "print('|      1      |         R$ 6,00        |       R$ 7,00      |      R$ 8,00       |')\n",
        "print('|      2      |         R$ 11,00       |       R$ 13,00     |      R$ 15,00      |')\n",
        "print('|      3      |         R$ 15,00       |       R$ 18,00     |      R$ 21,00      |')\n",
        "print('|--------------------------------------------------------------------------------|')\n",
        "\n",
        "acumulador = 0 #sempre utulizar essa condicional com valor zero para que ocorra a soma acumulada dos ítens escolhidos pelo usuário e seja impresso a soma dos valores.\n",
        "\n",
        "while True:#loop verdadeiro que percorre todas as linhas de código até que a condição não seja mais atendida.\n",
        "  sabor = input(' Digite a opção de sabor desejado (tr/pr/es):')\n",
        "  if sabor != 'tr' and sabor != 'pr' and sabor != 'es': #se o usuário digitar uma opação inválida, imprime a mensagem da linha de código abaixo.\n",
        "    print('Opção inválida. Escolha um sabor disponivel no cardápio!')\n",
        "    continue #faz o usuário retornar ao início do while caso ele digite uma opção inválida\n",
        "\n",
        "  bolas_sorvete = input(' Digite o número de bolas sorvete desejado (1/2/3):')\n",
        "  if bolas_sorvete != '1' and bolas_sorvete != '2' and bolas_sorvete != '3': #se o usuário digitar uma opação inválida, imprime a mensagem da linha de código abaixo.\n",
        "    print('Opção inválida. Escolha o número de bolas de sorvete disponiveis no cardápio!')\n",
        "    continue #faz o usuário retornar ao início do while caso ele digite uma opção inválida\n",
        "\n",
        "  if bolas_sorvete == '1' and sabor =='tr': #se o usuário escolher a opção indicada, o acumulador da próxima linha de código irá somar +6 (ocorre em todas as linhas de código de seleção de sabor e número de bolas)\n",
        "    acumulador = acumulador +6\n",
        "    print('Você escolheu sorvete com uma bola sabor tradicional:R$ 6,00')\n",
        "\n",
        "\n",
        "  elif bolas_sorvete == '2' and sabor =='tr':\n",
        "    acumulador = acumulador +11\n",
        "    print('Você escolheu sorvete com duas bolas sabor tradicional:R$ 11,00')\n",
        "\n",
        "\n",
        "  elif bolas_sorvete == '3' and sabor =='tr':\n",
        "    acumulador = acumulador +15\n",
        "    print('Você escolheu sorvete com três bolas sabor tradicional:R$ 15,00')\n",
        "\n",
        "\n",
        "  elif bolas_sorvete == '1' and sabor =='pr':\n",
        "    acumulador = acumulador +7\n",
        "    print('Você escolheu sorvete com uma bola sabor premium:R$ 7,00')\n",
        "\n",
        "\n",
        "  elif bolas_sorvete == '2' and sabor =='pr':\n",
        "    acumulador = acumulador +13\n",
        "    print('Você escolheu sorvete com duas bolas sabor premium:R$ 13,00')\n",
        "\n",
        "\n",
        "  elif bolas_sorvete == '3' and sabor =='pr':\n",
        "    acumulador = acumulador +18\n",
        "    print('Você escolheu sorvete com três bolas sabor premium:R$ 18,00')\n",
        "\n",
        "\n",
        "  elif bolas_sorvete == '1' and sabor =='es':\n",
        "    acumulador = acumulador +8\n",
        "    print('Você escolheu sorvete com uma bola sabor especial:R$ 8,00')\n",
        "\n",
        "\n",
        "  elif bolas_sorvete == '2' and sabor =='es':\n",
        "    acumulador = acumulador +15\n",
        "    print('Você escolheu sorvete com duas bolas sabor especial:R$ 15,00')\n",
        "\n",
        "\n",
        "  elif bolas_sorvete == '3' and sabor =='es':\n",
        "    acumulador = acumulador +21\n",
        "    print('Você escolheu sorvete com três bolas sabor especial:R$ 21,00')\n",
        "\n",
        "\n",
        "  mais_pedidos = input ('Deseja mais algum sorvete? (s/digite outra tecla)?')\n",
        "  if mais_pedidos == 's':\n",
        "    continue #retorna ao início do loop caso usuário deseje realizar mais pedidos.\n",
        "  else:\n",
        "    print('O valor total a ser pago: R$ {:.2f}.'.format(acumulador))\n",
        "    break #encerra o loop se o usuário não quiser realizar mais nenhum pedido."
      ]
    },
    {
      "cell_type": "markdown",
      "metadata": {
        "id": "2-CuV0mCulH1"
      },
      "source": [
        "Terceiro exercício atividade prática\n"
      ]
    },
    {
      "cell_type": "code",
      "execution_count": null,
      "metadata": {
        "colab": {
          "base_uri": "https://localhost:8080/"
        },
        "id": "bXRLs6tDz1og",
        "outputId": "5fd7f6c8-9e14-4fdb-d316-202636f90453"
      },
      "outputs": [
        {
          "name": "stdout",
          "output_type": "stream",
          "text": [
            "Bem-vindo ao Petshop do Paulo Eduardo Augusto!\n",
            "Digite o peso do cachorro em kg: um\n",
            "Por favor, digite um valor numérico inteiro.\n",
            "Digite o peso do cachorro em kg: 60\n",
            "Cachorros com mais de 50kg não são aceitos.\n",
            "Digite o peso do cachorro em kg: 45\n",
            "Digite o tipo de pelo do cachorro: \n",
            " c - Pelo curto \n",
            " m - Pelo médio \n",
            " l - Pelo longo l\n",
            "Escolha um serviço adicional: \n",
            " 1 - Cortar Unhas \n",
            " 2 - Escovar Dentes \n",
            " 3 - Limpar Orelhas \n",
            " 0 - Não querer mais nada 1\n",
            "Escolha um serviço adicional: \n",
            " 1 - Cortar Unhas \n",
            " 2 - Escovar Dentes \n",
            " 3 - Limpar Orelhas \n",
            " 0 - Não querer mais nada 3\n",
            "Escolha um serviço adicional: \n",
            " 1 - Cortar Unhas \n",
            " 2 - Escovar Dentes \n",
            " 3 - Limpar Orelhas \n",
            " 0 - Não querer mais nada 0\n",
            "Total a pagar: R$165.00 (Peso R$70.00 * Pelo R$2.00 + Adicional (is) R$25.00 )\n"
          ]
        }
      ],
      "source": [
        "def cachorro_peso():#função peso do cachorro\n",
        "    while True: #Loop que percorre todas as linhas de código atá que a condição seja verdadeira.\n",
        "        try: #Nesse caso o try é para que o Python tente executar o código e caso não consiga executar por conta de um erro ele vai retornar o que temos dentro do except.\n",
        "            peso = int(input(\"Digite o peso do cachorro em kg: \"))\n",
        "            if peso < 3:\n",
        "                return 40 #retorna o valor de quarenta quando o a condição de peso menor que três é atendida. Ocorre em todas as linhas de código para retorno de valor.\n",
        "            elif peso < 10:\n",
        "                return 50\n",
        "            elif peso < 30:\n",
        "                return 60\n",
        "            elif peso < 50:\n",
        "                return 70\n",
        "            else:\n",
        "                print(\"Cachorros com mais de 50kg não são aceitos.\")\n",
        "        except ValueError: #trata o erro para que o mesmo não apareça para o usuário.\n",
        "            print(\"Por favor, digite um valor numérico inteiro.\")\n",
        "\n",
        "def cachorro_pelo(): #função para pelo do cachorro\n",
        "    while True:#loop\n",
        "        pelo = input(\"Digite o tipo de pelo do cachorro: \\n c - Pelo curto \\n m - Pelo médio \\n l - Pelo longo \").lower()\n",
        "        if pelo in ['c', 'm', 'l']:# se a condicional \"if\" for atendida no intervalo através de \"in\", ocorrerá o retorno de valor das próximas condicionais aninhadas.\n",
        "            if pelo == 'c':\n",
        "                return 1\n",
        "            elif pelo == 'm':\n",
        "                return 1.5\n",
        "            elif pelo == 'l':\n",
        "                return 2\n",
        "        else:\n",
        "            print(\"Opção de pelo inválida. Digite 'c' para pelo curto, 'm' para pelo médio, ou 'l' para pelo longo.\")\n",
        "\n",
        "def cachorro_extra():#função para serviços  adicionais.\n",
        "    total_extra = 0 #acumulador\n",
        "    while True: #loop\n",
        "        adicional = input(\"Escolha um serviço adicional: \\n 1 - Cortar Unhas \\n 2 - Escovar Dentes \\n 3 - Limpar Orelhas \\n 0 - Não querer mais nada \")\n",
        "        if adicional == '0':\n",
        "            return total_extra #retorna o valor com a somatória dos adicinais pela variável acumuladora total_extra\n",
        "        elif adicional in ['1', '2', '3']: # se a condicional \"elif\" for atendida no intervalo através de \"in\", ocorrerá o retorno de valor das próximas condicionais aninhadas.\n",
        "            if adicional == '1':\n",
        "                total_extra += 10\n",
        "            elif adicional == '2':\n",
        "                total_extra += 12\n",
        "            elif adicional == '3':\n",
        "                total_extra += 15\n",
        "        else:\n",
        "            print(\"Opção de serviço adicional inválida. Escolha entre 1, 2, 3 ou 0 para sair.\")\n",
        "\n",
        "def main():# função menu com as variáveis globais do código\n",
        "    print(\"Bem-vindo ao Petshop do Paulo Eduardo Augusto!\")\n",
        "    peso_base = cachorro_peso()\n",
        "    pelo_multiplicador = cachorro_pelo()\n",
        "    extra = cachorro_extra()\n",
        "    total = peso_base * pelo_multiplicador + extra\n",
        "\n",
        "    print(\"Total a pagar: R${:.2f} (Peso R${:.2f} * Pelo R${:.2f} + Adicional (is) R${:.2f} )\".format(total, peso_base, pelo_multiplicador, extra ))\n",
        "\n",
        "\n",
        "if __name__ == \"__main__\":\n",
        "    main()"
      ]
    },
    {
      "cell_type": "markdown",
      "metadata": {
        "id": "5fCEDCU_qrC0"
      },
      "source": [
        "<div class=\"markdown-google-sans\">\n",
        "  <h2>O que é o Colab?</h2>\n",
        "</div>\n",
        "\n",
        "O Colab, ou \"Colaboratory\", permite escrever e executar Python no navegador e conta com o seguinte:\n",
        "- Nenhuma configuração necessária\n",
        "- Acesso a GPUs sem custo financeiro\n",
        "- Compartilhamento fácil\n",
        "\n",
        "Você pode ser um <strong>estudante</strong>, um <strong>cientista de dados</strong> ou um <strong>pesquisador de IA</strong>, o Colab pode facilitar seu trabalho. Assista ao vídeo <a href=\"https://www.youtube.com/watch?v=inN8seMm7UI\">Introdução ao Colab</a> para saber mais ou simplesmente comece a usá-lo abaixo!"
      ]
    },
    {
      "cell_type": "markdown",
      "metadata": {
        "id": "8e2MZEkhPcH2"
      },
      "source": [
        "Quarto Exercício Atividade Prática"
      ]
    },
    {
      "cell_type": "code",
      "execution_count": null,
      "metadata": {
        "colab": {
          "background_save": true,
          "base_uri": "https://localhost:8080/"
        },
        "id": "Ae3JB1HJPqX8",
        "outputId": "9735d865-4e86-407a-c895-8caeb0042b0b"
      },
      "outputs": [
        {
          "name": "stdout",
          "output_type": "stream",
          "text": [
            "Bem-vindo a empresa do Paulo Eduardo Augusto\n",
            "Bem-vindo ao menu de cadastramento de funcionários.\n",
            "id do Colaborador 1\n",
            "Bem-vindo ao Menu de consulta de colaboradores:\n",
            "Você escolheu a opção de consultar por id\n",
            "---------------------------\n",
            "id: 1 \n",
            "---------------------------\n",
            "nome: Paulo \n",
            "---------------------------\n",
            "setor: Produção \n",
            "---------------------------\n",
            "pagamento: 2000.0 \n",
            "---------------------------\n"
          ]
        }
      ],
      "source": [
        "#------------------- VARIAVEIS GLOBAIS--------------\n",
        "lista_colaboradores = []\n",
        "id_global = 0\n",
        "\n",
        "#-------------------FUNÇÃO CADASTRO-------------------\n",
        "def cadastrar_colaborador(id): #função para cadastrar funcionários passando parâmetro\n",
        "  print('Bem-vindo ao menu de cadastramento de funcionários.')\n",
        "  print('id do Colaborador {}'.format(id))\n",
        "  nome = input('Digite o nome do Colaborador:') #variável nome\n",
        "  setor = input('Digite o setor do Colaborador:')#variável setor\n",
        "  pagamento = float(input('Digite o salário do Colaborador:')) #solicita ao usuário a entrada com um número inteiro ou não.\n",
        "  dicionario_colaboradores = {'id'       : id,\n",
        "                              'nome'     : nome,\n",
        "                              'setor'    : setor,\n",
        "                              'pagamento': pagamento}\n",
        "  lista_colaboradores.append(dicionario_colaboradores.copy())# função append utulizada para adicionar funcinário dentro do dicionário que está dentro de uma lista.\n",
        "#-------------------FUNÇÃO CONSULTAR-----------------\n",
        "def consultar_colaborador():\n",
        "  print('Bem-vindo ao Menu de consulta de colaboradores:')\n",
        "  while True:\n",
        "          opcao_consultar = input('Escolha a opção desejada: \\n' +\n",
        "                                  '1 - Consultar Todos\\n'+\n",
        "                                  '2 - Consultar por id \\n'+\n",
        "                                  '3 - Consultar por setor \\n'+\n",
        "                                  '4 - Retornar ao menu \\n'+\n",
        "                                  '>>')\n",
        "          if opcao_consultar == '1':\n",
        "            print('Você escolheu a opção de consultar todos os colaboradores')\n",
        "            for colaborador in lista_colaboradores: #variável colaborador irá varrer a lista de colaboradores\n",
        "              print('---------------------------')\n",
        "              for key, value in colaborador.items():#varrer todos os conjuntos chave e valor do dicionário colaborador\n",
        "                  print('{}: {} '.format(key, value))\n",
        "                  print('---------------------------')\n",
        "          elif opcao_consultar == '2':\n",
        "            print('Você escolheu a opção de consultar por id')\n",
        "            valor_desejado = int(input('Entre com o id que deseja consultar:'))\n",
        "            for colaborador in lista_colaboradores:\n",
        "              if colaborador['id'] == valor_desejado: #o valor do campo id desse dicionário é igual o valor desejado\n",
        "                print('---------------------------')\n",
        "                for key, value in colaborador.items():#varrer todos os conjuntos chave e valor do dicionário colaborador\n",
        "                  print('{}: {} '.format(key, value))\n",
        "                  print('---------------------------')\n",
        "          elif opcao_consultar == '3':\n",
        "            print('Você escolheu a opção de consultar por setor')\n",
        "            valor_desejado = input('Entre com o setor que deseja consultar:')\n",
        "            for colaborador in lista_colaboradores:\n",
        "              if colaborador['setor'] == valor_desejado: #o valor do campo id desse dicionário é igual o valor desejado\n",
        "                print('---------------------------')\n",
        "                for key, value in colaborador.items():#varrer todos os conjuntos chave e valor do dicionário colaborador\n",
        "                  print('{}: {} '.format(key, value))\n",
        "                  print('---------------------------')\n",
        "\n",
        "          elif opcao_consultar == '4':\n",
        "            return #sai da opção consultar e volta para o Main\n",
        "\n",
        "          else:\n",
        "            print('Opção inválida. Tente novamente umas da opções do menu!')\n",
        "            continue #retona ao início do loop\n",
        "\n",
        "#-------------------FUNÇÃO REMOVER---------------------------\n",
        "def remover_colaborador():\n",
        "  print('Bem-vindo ao menu de remover colaborador')\n",
        "  valor_desejado = int(input('Entre com Id do colaborador que deseja remover:\\n >>'))\n",
        "  for colaborador in lista_colaboradores:\n",
        "    if colaborador['id'] == valor_desejado:\n",
        "      lista_colaboradores.remove(colaborador)#função remove utulizada para remover o colaborador da lista.\n",
        "      print('Colaborador removido')\n",
        "\n",
        "\n",
        "#-------------------MAIN----------------------------------\n",
        "print('Bem-vindo a empresa do Paulo Eduardo Augusto')\n",
        "while True:#loop\n",
        "  opcao_principal = input('Escolha a opção desejada: \\n' +\n",
        "                                '1 - Cadastrar Colaborador\\n'+\n",
        "                                '2 - Consultar Colaborador \\n'+\n",
        "                                '3 - Remover Colaborador \\n'+\n",
        "                                '4 - Encerrar Programa \\n'+\n",
        "                                '>>')\n",
        "  if opcao_principal == '1':\n",
        "    id_global = id_global + 1\n",
        "    cadastrar_colaborador(id_global)\n",
        "  elif opcao_principal == '2':\n",
        "    consultar_colaborador()\n",
        "  elif opcao_principal == '3':\n",
        "    remover_colaborador()\n",
        "  elif opcao_principal == '4':\n",
        "    break #encerra o loop finalizando o programa\n",
        "  else:\n",
        "    print('Opção inválida. Tente novamente umas da opções do menu!')\n",
        "    continue #retorna ao início do menu principal\n",
        "\n"
      ]
    }
  ],
  "metadata": {
    "colab": {
      "provenance": [],
      "include_colab_link": true
    },
    "kernelspec": {
      "display_name": "Python 3",
      "name": "python3"
    }
  },
  "nbformat": 4,
  "nbformat_minor": 0
}